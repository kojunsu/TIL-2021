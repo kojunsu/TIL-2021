{
 "cells": [
  {
   "cell_type": "markdown",
   "metadata": {},
   "source": [
    "# DAY 1\n",
    "----------------------"
   ]
  },
  {
   "cell_type": "markdown",
   "metadata": {},
   "source": [
    "### upper\n",
    "\n",
    "- 대문자로 변환\n",
    "\n",
    "### lower \n",
    "- 소문자로 전환\n",
    "\n",
    "### strip \n",
    "- 공백 제거\n",
    "\n",
    "### replace \n",
    "- 특정 문자열 치환"
   ]
  },
  {
   "cell_type": "markdown",
   "metadata": {},
   "source": [
    "### 컬렉션 데이터 타입 : list, tuple, dict\n",
    "- list [] : 순서가 있는 수정이 가능한 데이터 타입\n",
    "- tuple () : 순서가 있는 수정이 불가능한 데이터 타입\n",
    "- dict {} : 순서가 없고 키:값 으로 구성되어 있는 데이터 타입\n",
    "\n",
    "- (data.values() 로 값만 출력 가능 data.keys() 로 키만 출력 가능)"
   ]
  },
  {
   "cell_type": "markdown",
   "metadata": {},
   "source": [
    "### sort : 오름차순으로 정렬\n",
    "- ls.sort()\n",
    "- ls[::-1] # 내림차순 정렬"
   ]
  },
  {
   "cell_type": "markdown",
   "metadata": {},
   "source": [
    "### 변수 선언\n",
    "- RAM 저장공간에 값을 할당하는 행위"
   ]
  },
  {
   "cell_type": "markdown",
   "metadata": {},
   "source": [
    "### copy\n",
    "- 깊은 복사라고도 함(주소값 복사가 아닌 데이터 값도 복사됨(?))"
   ]
  },
  {
   "cell_type": "markdown",
   "metadata": {},
   "source": [
    "### pop\n",
    "- 가장 마지막 데이터를 출력하고 출력한 데이터를 삭제"
   ]
  },
  {
   "cell_type": "markdown",
   "metadata": {},
   "source": [
    "### format\n",
    "- 포메팅을 하기 위해 사용(포메팅은 문자열을 이쁘게 만드는 방법?!)\n",
    "### s = '구구단 {0} x {1} = {2}'.format(a,b,a *b)"
   ]
  },
  {
   "cell_type": "code",
   "execution_count": 14,
   "metadata": {},
   "outputs": [
    {
     "name": "stdout",
     "output_type": "stream",
     "text": [
      "not zero\n"
     ]
    },
    {
     "data": {
      "text/plain": [
       "'zero'"
      ]
     },
     "execution_count": 14,
     "metadata": {},
     "output_type": "execute_result"
    }
   ],
   "source": [
    "data = 1\n",
    "if data:\n",
    "    print(\"not zero\")\n",
    "else:\n",
    "    print(\"zero\")\n",
    "\n",
    "data = 0\n",
    "result = \"not zero\" if data else \"zero\"\n",
    "result"
   ]
  },
  {
   "cell_type": "markdown",
   "metadata": {},
   "source": [
    "### zip\n",
    "- 변수를 묶음"
   ]
  },
  {
   "cell_type": "code",
   "execution_count": 15,
   "metadata": {},
   "outputs": [
    {
     "name": "stdout",
     "output_type": "stream",
     "text": [
      "korean 80\n",
      "english 90\n",
      "math 100\n"
     ]
    }
   ],
   "source": [
    "subjects_ls = [\"korean\", \"english\", \"math\"]\n",
    "points_ls = [80, 90, 100]\n",
    "for subject, point in zip(subjects_ls, points_ls):\n",
    "    print(subject, point)"
   ]
  },
  {
   "cell_type": "code",
   "execution_count": 16,
   "metadata": {},
   "outputs": [
    {
     "data": {
      "text/plain": [
       "[1, 3, 5, 7, 9]"
      ]
     },
     "execution_count": 16,
     "metadata": {},
     "output_type": "execute_result"
    }
   ],
   "source": [
    "ls = range(10)\n",
    "[data for data in ls if data % 2]"
   ]
  },
  {
   "cell_type": "code",
   "execution_count": null,
   "metadata": {},
   "outputs": [],
   "source": []
  },
  {
   "cell_type": "code",
   "execution_count": null,
   "metadata": {},
   "outputs": [],
   "source": []
  },
  {
   "cell_type": "code",
   "execution_count": null,
   "metadata": {},
   "outputs": [],
   "source": []
  }
 ],
 "metadata": {
  "kernelspec": {
   "display_name": "Python 3",
   "language": "python",
   "name": "python3"
  },
  "language_info": {
   "codemirror_mode": {
    "name": "ipython",
    "version": 3
   },
   "file_extension": ".py",
   "mimetype": "text/x-python",
   "name": "python",
   "nbconvert_exporter": "python",
   "pygments_lexer": "ipython3",
   "version": "3.7.7"
  }
 },
 "nbformat": 4,
 "nbformat_minor": 4
}
